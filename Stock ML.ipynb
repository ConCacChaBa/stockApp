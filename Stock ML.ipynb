{
 "cells": [
  {
   "cell_type": "markdown",
   "metadata": {},
   "source": [
    "# Stock prediction"
   ]
  },
  {
   "cell_type": "markdown",
   "metadata": {},
   "source": [
    "## Download and describe the data"
   ]
  },
  {
   "cell_type": "markdown",
   "metadata": {},
   "source": [
    "### Load the data"
   ]
  },
  {
   "cell_type": "code",
   "execution_count": 31,
   "metadata": {},
   "outputs": [
    {
     "data": {
      "text/html": [
       "<div>\n",
       "<style scoped>\n",
       "    .dataframe tbody tr th:only-of-type {\n",
       "        vertical-align: middle;\n",
       "    }\n",
       "\n",
       "    .dataframe tbody tr th {\n",
       "        vertical-align: top;\n",
       "    }\n",
       "\n",
       "    .dataframe thead th {\n",
       "        text-align: right;\n",
       "    }\n",
       "</style>\n",
       "<table border=\"1\" class=\"dataframe\">\n",
       "  <thead>\n",
       "    <tr style=\"text-align: right;\">\n",
       "      <th></th>\n",
       "      <th>Date</th>\n",
       "      <th>Open</th>\n",
       "      <th>High</th>\n",
       "      <th>Low</th>\n",
       "      <th>Close</th>\n",
       "      <th>Adj Close</th>\n",
       "      <th>Volume</th>\n",
       "      <th>Open1</th>\n",
       "      <th>High1</th>\n",
       "      <th>Low1</th>\n",
       "      <th>...</th>\n",
       "      <th>Close3</th>\n",
       "      <th>Adj Close3</th>\n",
       "      <th>Volume3</th>\n",
       "      <th>Open4</th>\n",
       "      <th>High4</th>\n",
       "      <th>Low4</th>\n",
       "      <th>Close4</th>\n",
       "      <th>Adj Close4</th>\n",
       "      <th>Volume4</th>\n",
       "      <th>Predicted</th>\n",
       "    </tr>\n",
       "  </thead>\n",
       "  <tbody>\n",
       "    <tr>\n",
       "      <th>0</th>\n",
       "      <td>4/26/2019</td>\n",
       "      <td>2.52</td>\n",
       "      <td>2.64</td>\n",
       "      <td>2.52</td>\n",
       "      <td>2.62</td>\n",
       "      <td>2.393271</td>\n",
       "      <td>190100.0</td>\n",
       "      <td>2.65</td>\n",
       "      <td>2.66</td>\n",
       "      <td>2.47</td>\n",
       "      <td>...</td>\n",
       "      <td>2.54</td>\n",
       "      <td>2.320194</td>\n",
       "      <td>215200.0</td>\n",
       "      <td>2.63</td>\n",
       "      <td>2.64</td>\n",
       "      <td>2.39</td>\n",
       "      <td>2.48</td>\n",
       "      <td>2.265386</td>\n",
       "      <td>455100.0</td>\n",
       "      <td>26.1</td>\n",
       "    </tr>\n",
       "    <tr>\n",
       "      <th>1</th>\n",
       "      <td>4/29/2019</td>\n",
       "      <td>2.61</td>\n",
       "      <td>2.75</td>\n",
       "      <td>2.58</td>\n",
       "      <td>2.62</td>\n",
       "      <td>2.393271</td>\n",
       "      <td>135500.0</td>\n",
       "      <td>2.52</td>\n",
       "      <td>2.64</td>\n",
       "      <td>2.52</td>\n",
       "      <td>...</td>\n",
       "      <td>2.62</td>\n",
       "      <td>2.393271</td>\n",
       "      <td>196600.0</td>\n",
       "      <td>2.50</td>\n",
       "      <td>2.60</td>\n",
       "      <td>2.50</td>\n",
       "      <td>2.54</td>\n",
       "      <td>2.320194</td>\n",
       "      <td>215200.0</td>\n",
       "      <td>26.4</td>\n",
       "    </tr>\n",
       "    <tr>\n",
       "      <th>2</th>\n",
       "      <td>4/30/2019</td>\n",
       "      <td>2.64</td>\n",
       "      <td>2.70</td>\n",
       "      <td>2.52</td>\n",
       "      <td>2.63</td>\n",
       "      <td>2.402406</td>\n",
       "      <td>193900.0</td>\n",
       "      <td>2.61</td>\n",
       "      <td>2.75</td>\n",
       "      <td>2.58</td>\n",
       "      <td>...</td>\n",
       "      <td>2.54</td>\n",
       "      <td>2.320194</td>\n",
       "      <td>190100.0</td>\n",
       "      <td>2.54</td>\n",
       "      <td>2.67</td>\n",
       "      <td>2.53</td>\n",
       "      <td>2.62</td>\n",
       "      <td>2.393271</td>\n",
       "      <td>196600.0</td>\n",
       "      <td>27.3</td>\n",
       "    </tr>\n",
       "    <tr>\n",
       "      <th>3</th>\n",
       "      <td>5/1/2019</td>\n",
       "      <td>2.73</td>\n",
       "      <td>2.80</td>\n",
       "      <td>2.34</td>\n",
       "      <td>2.38</td>\n",
       "      <td>2.174040</td>\n",
       "      <td>376400.0</td>\n",
       "      <td>2.64</td>\n",
       "      <td>2.70</td>\n",
       "      <td>2.52</td>\n",
       "      <td>...</td>\n",
       "      <td>2.62</td>\n",
       "      <td>2.393271</td>\n",
       "      <td>135500.0</td>\n",
       "      <td>2.65</td>\n",
       "      <td>2.66</td>\n",
       "      <td>2.47</td>\n",
       "      <td>2.54</td>\n",
       "      <td>2.320194</td>\n",
       "      <td>190100.0</td>\n",
       "      <td>23.2</td>\n",
       "    </tr>\n",
       "    <tr>\n",
       "      <th>4</th>\n",
       "      <td>5/2/2019</td>\n",
       "      <td>2.32</td>\n",
       "      <td>2.47</td>\n",
       "      <td>2.22</td>\n",
       "      <td>2.39</td>\n",
       "      <td>2.183175</td>\n",
       "      <td>716900.0</td>\n",
       "      <td>2.73</td>\n",
       "      <td>2.80</td>\n",
       "      <td>2.34</td>\n",
       "      <td>...</td>\n",
       "      <td>2.62</td>\n",
       "      <td>2.393271</td>\n",
       "      <td>193900.0</td>\n",
       "      <td>2.52</td>\n",
       "      <td>2.64</td>\n",
       "      <td>2.52</td>\n",
       "      <td>2.62</td>\n",
       "      <td>2.393271</td>\n",
       "      <td>135500.0</td>\n",
       "      <td>24.3</td>\n",
       "    </tr>\n",
       "  </tbody>\n",
       "</table>\n",
       "<p>5 rows × 32 columns</p>\n",
       "</div>"
      ],
      "text/plain": [
       "        Date  Open  High   Low  Close  Adj Close    Volume  Open1  High1  \\\n",
       "0  4/26/2019  2.52  2.64  2.52   2.62   2.393271  190100.0   2.65   2.66   \n",
       "1  4/29/2019  2.61  2.75  2.58   2.62   2.393271  135500.0   2.52   2.64   \n",
       "2  4/30/2019  2.64  2.70  2.52   2.63   2.402406  193900.0   2.61   2.75   \n",
       "3   5/1/2019  2.73  2.80  2.34   2.38   2.174040  376400.0   2.64   2.70   \n",
       "4   5/2/2019  2.32  2.47  2.22   2.39   2.183175  716900.0   2.73   2.80   \n",
       "\n",
       "   Low1  ...  Close3  Adj Close3   Volume3  Open4  High4  Low4  Close4  \\\n",
       "0  2.47  ...    2.54    2.320194  215200.0   2.63   2.64  2.39    2.48   \n",
       "1  2.52  ...    2.62    2.393271  196600.0   2.50   2.60  2.50    2.54   \n",
       "2  2.58  ...    2.54    2.320194  190100.0   2.54   2.67  2.53    2.62   \n",
       "3  2.52  ...    2.62    2.393271  135500.0   2.65   2.66  2.47    2.54   \n",
       "4  2.34  ...    2.62    2.393271  193900.0   2.52   2.64  2.52    2.62   \n",
       "\n",
       "   Adj Close4   Volume4  Predicted  \n",
       "0    2.265386  455100.0       26.1  \n",
       "1    2.320194  215200.0       26.4  \n",
       "2    2.393271  196600.0       27.3  \n",
       "3    2.320194  190100.0       23.2  \n",
       "4    2.393271  135500.0       24.3  \n",
       "\n",
       "[5 rows x 32 columns]"
      ]
     },
     "execution_count": 31,
     "metadata": {},
     "output_type": "execute_result"
    }
   ],
   "source": [
    "import numpy as np\n",
    "import pandas as pd\n",
    "data = pd.read_csv(r'C:\\Users\\phatm\\Desktop\\Project Ngoc Dung\\BGFV.csv')\n",
    "data.head()"
   ]
  },
  {
   "cell_type": "code",
   "execution_count": 32,
   "metadata": {
    "scrolled": true
   },
   "outputs": [
    {
     "name": "stdout",
     "output_type": "stream",
     "text": [
      "     Open  High   Low  Close  Adj Close    Volume  Open1  High1  Low1  Close1  \\\n",
      "0    2.52  2.64  2.52   2.62   2.393271  190100.0   2.65   2.66  2.47    2.54   \n",
      "1    2.61  2.75  2.58   2.62   2.393271  135500.0   2.52   2.64  2.52    2.62   \n",
      "2    2.64  2.70  2.52   2.63   2.402406  193900.0   2.61   2.75  2.58    2.62   \n",
      "3    2.73  2.80  2.34   2.38   2.174040  376400.0   2.64   2.70  2.52    2.63   \n",
      "4    2.32  2.47  2.22   2.39   2.183175  716900.0   2.73   2.80  2.34    2.38   \n",
      "..    ...   ...   ...    ...        ...       ...    ...    ...   ...     ...   \n",
      "244  1.06  1.08  0.91   0.97   0.970000  415900.0   0.99   1.02  0.95    1.01   \n",
      "245  0.99  1.00  0.88   0.89   0.890000  274700.0   1.06   1.08  0.91    0.97   \n",
      "246  0.98  1.02  0.86   0.93   0.930000  313600.0   0.99   1.00  0.88    0.89   \n",
      "247  0.97  1.02  0.93   0.98   0.980000  702900.0   0.98   1.02  0.86    0.93   \n",
      "248   NaN   NaN   NaN    NaN        NaN       NaN    NaN    NaN   NaN     NaN   \n",
      "\n",
      "     ...  Close3  Adj Close3   Volume3  Open4  High4  Low4  Close4  \\\n",
      "0    ...    2.54    2.320194  215200.0   2.63   2.64  2.39    2.48   \n",
      "1    ...    2.62    2.393271  196600.0   2.50   2.60  2.50    2.54   \n",
      "2    ...    2.54    2.320194  190100.0   2.54   2.67  2.53    2.62   \n",
      "3    ...    2.62    2.393271  135500.0   2.65   2.66  2.47    2.54   \n",
      "4    ...    2.62    2.393271  193900.0   2.52   2.64  2.52    2.62   \n",
      "..   ...     ...         ...       ...    ...    ...   ...     ...   \n",
      "244  ...    0.97    0.970000  524000.0   0.88   0.95  0.82    0.95   \n",
      "245  ...    0.96    0.960000  307500.0   0.99   1.07  0.95    0.97   \n",
      "246  ...    1.01    1.010000  415900.0   1.00   1.03  0.90    0.96   \n",
      "247  ...    0.97    0.970000  274700.0   0.99   1.02  0.95    1.01   \n",
      "248  ...     NaN         NaN       NaN    NaN    NaN   NaN     NaN   \n",
      "\n",
      "     Adj Close4   Volume4  Predicted  \n",
      "0      2.265386  455100.0       26.1  \n",
      "1      2.320194  215200.0       26.4  \n",
      "2      2.393271  196600.0       27.3  \n",
      "3      2.320194  190100.0       23.2  \n",
      "4      2.393271  135500.0       24.3  \n",
      "..          ...       ...        ...  \n",
      "244    0.950000  297700.0        9.9  \n",
      "245    0.970000  524000.0        9.8  \n",
      "246    0.960000  307500.0        9.7  \n",
      "247    1.010000  415900.0        0.0  \n",
      "248         NaN       NaN        NaN  \n",
      "\n",
      "[249 rows x 31 columns]\n"
     ]
    }
   ],
   "source": [
    "data = data.drop(['Date'], axis=1)\n",
    "print(data)\n"
   ]
  },
  {
   "cell_type": "markdown",
   "metadata": {},
   "source": [
    "## Predition model by using Support Vector Machines (SVM)"
   ]
  },
  {
   "cell_type": "markdown",
   "metadata": {},
   "source": [
    "### Classifier's learning\n",
    "##### Initial classifier: SVC class, polynomial degree 3 kernel and gamma = 0.001"
   ]
  },
  {
   "cell_type": "code",
   "execution_count": 33,
   "metadata": {},
   "outputs": [],
   "source": [
    "label = data.take([-1], axis=1)\n",
    "data = data.drop(['Predicted'], axis=1)\n",
    "data = data.to_numpy()\n",
    "label = label.to_numpy()\n",
    "data = data[:-1]\n",
    "label = label[:-1]\n",
    "\n",
    "slipt_point = 45/50\n",
    "\n",
    "n_samples = len(label)\n",
    "slipt = int(n_samples*slipt_point)\n",
    "di = data[:slipt]\n",
    "dt = label[:slipt]\n",
    "ti = data[slipt:]\n",
    "tt = label[slipt:]\n",
    "\n",
    "dt = dt.ravel().astype('int')\n",
    "tt = tt.ravel().astype('int')\n",
    "# from sklearn import preprocessing\n",
    "# lab_enc = preprocessing.LabelEncoder()\n",
    "# dt = lab_enc.fit_transform(dt)\n",
    "# tt = lab_enc.fit_transform(tt)"
   ]
  },
  {
   "cell_type": "code",
   "execution_count": 34,
   "metadata": {},
   "outputs": [
    {
     "name": "stdout",
     "output_type": "stream",
     "text": [
      "[26 26 27 23 24 23 23 23 23 23 23 23 28 27 25 25 27 26 25 23 23 23 21 20\n",
      " 20 20 22 20 20 20 21 21 21 21 22 22 22 22 21 20 20 20 19 19 19 19 19 19\n",
      " 19 20 20 19 19 20 19 19 18 18 18 18 18 18 17 16 16 19 21 20 22 21 19 19\n",
      " 19 19 19 18 18 17 18 18 18 19 19 19 19 20 18 18 17 17 17 18 18 22 23 24\n",
      " 23 21 20 20 19 19 21 23 22 23 23 23 21 21 20 20 21 20 22 23 23 24 25 23\n",
      " 25 25 26 25 24 25 25 25 25 31 34 32 31 32 33 33 32 32 31 29 28 28 28 27\n",
      " 26 25 25 27 27 27 26 27 25 25 26 26 26 28 30 30 29 29 28 28 28 29 29 29\n",
      " 30 30 30 29 30 30 30 32 31 32 31 31 38 39 39 40 38 38 38 38 38 39 39 39\n",
      " 39 37 38 38 37 35 34 34 33 33 33 35 35 35 36 35 33 25 22 21 22 23 22 22\n",
      " 22 21 20 19 16 15 14]\n"
     ]
    }
   ],
   "source": [
    "print(dt)"
   ]
  },
  {
   "cell_type": "code",
   "execution_count": null,
   "metadata": {},
   "outputs": [
    {
     "name": "stdout",
     "output_type": "stream",
     "text": [
      "\n",
      "\u001b[1m\n",
      "0\n"
     ]
    }
   ],
   "source": [
    "from sklearn import svm\n",
    "import timeit\n",
    "\n",
    "start = timeit.default_timer()\n",
    "print('\\n'+'\\033[1m')\n",
    "\n",
    "clf = svm.SVC(kernel='poly', degree = 2,gamma = 0.001)\n",
    "print('0')\n",
    "\n",
    "\n",
    "clf.fit(di,dt)\n",
    "print('1')\n",
    "\n",
    "predicted = clf.predict(ti)\n",
    "print('2 \\nDone!')\n",
    "print('\\033[0m')\n",
    "\n",
    "stop = timeit.default_timer()\n",
    "print('Run time: ', stop - start)  "
   ]
  },
  {
   "cell_type": "markdown",
   "metadata": {},
   "source": [
    "### Classifier's prediction "
   ]
  },
  {
   "cell_type": "code",
   "execution_count": 26,
   "metadata": {},
   "outputs": [
    {
     "name": "stdout",
     "output_type": "stream",
     "text": [
      "130 192\n",
      "120 192\n",
      "100 140\n",
      "107 192\n",
      "96 192\n",
      "106 192\n",
      "126 192\n",
      "119 140\n",
      "128 192\n",
      "120 192\n",
      "107 192\n",
      "105 192\n",
      "98 192\n",
      "75 192\n",
      "76 140\n",
      "90 140\n",
      "88 192\n",
      "99 192\n",
      "100 192\n",
      "99 192\n",
      "106 192\n",
      "99 192\n",
      "98 192\n",
      "97 192\n",
      "0 140\n"
     ]
    }
   ],
   "source": [
    "c, d = predicted, tt\n",
    "import re\n",
    "print(re.sub(r' *\\n *', '\\n', np.array_str(np.c_[d, c]).replace('[', '').replace(']', '').strip()))"
   ]
  },
  {
   "cell_type": "markdown",
   "metadata": {},
   "source": [
    "### Classifier's report, confusion matrix and cross-validation's score"
   ]
  },
  {
   "cell_type": "code",
   "execution_count": 27,
   "metadata": {
    "scrolled": false
   },
   "outputs": [
    {
     "name": "stderr",
     "output_type": "stream",
     "text": [
      "C:\\Users\\phatm\\Anaconda3\\lib\\site-packages\\sklearn\\model_selection\\_split.py:667: UserWarning: The least populated class in y has only 1 members, which is less than n_splits=3.\n",
      "  % (min_groups, self.n_splits)), UserWarning)\n"
     ]
    },
    {
     "name": "stdout",
     "output_type": "stream",
     "text": [
      "\n",
      "\n",
      "Evaluate a score by cross-validation:     mean score = 0.041666666666666664 \n",
      "\n"
     ]
    }
   ],
   "source": [
    "from sklearn import metrics\n",
    "from sklearn.model_selection import cross_val_score\n",
    "\n",
    "print(\"\\n\\nEvaluate a score by cross-validation:     mean score = %s \\n\" % cross_val_score(clf, ti, tt, cv=3).mean())"
   ]
  },
  {
   "cell_type": "markdown",
   "metadata": {},
   "source": [
    "### Parameters ranking with GridSearchCV"
   ]
  },
  {
   "cell_type": "code",
   "execution_count": null,
   "metadata": {
    "scrolled": true
   },
   "outputs": [],
   "source": [
    "print('\\033[1m'+ \"GridSearchCV's report:\"+'\\033[0m')\n",
    "clf_G.cv_results_"
   ]
  },
  {
   "cell_type": "code",
   "execution_count": null,
   "metadata": {},
   "outputs": [],
   "source": [
    "print('\\033[1m'+ \"Rank 1 parameter\"+'\\033[0m')\n",
    "for i in range(len(clf_G.cv_results_['rank_test_score'])):\n",
    "    if clf_G.cv_results_['rank_test_score'][i] == 1:\n",
    "        print('\\n',clf_G.cv_results_['params'][i])"
   ]
  },
  {
   "cell_type": "markdown",
   "metadata": {},
   "source": [
    "## Other machine learning method and comparision"
   ]
  },
  {
   "cell_type": "markdown",
   "metadata": {},
   "source": [
    "### Ensemble methods"
   ]
  },
  {
   "cell_type": "code",
   "execution_count": 28,
   "metadata": {},
   "outputs": [],
   "source": [
    "from sklearn.ensemble import RandomForestClassifier\n",
    "from sklearn.ensemble import ExtraTreesClassifier\n",
    "from sklearn.tree import DecisionTreeClassifier\n",
    "from sklearn.ensemble import AdaBoostClassifier\n",
    "from sklearn.naive_bayes import GaussianNB\n",
    "from sklearn.ensemble import GradientBoostingClassifier\n",
    "from sklearn.ensemble import VotingClassifier"
   ]
  },
  {
   "cell_type": "code",
   "execution_count": 29,
   "metadata": {
    "scrolled": false
   },
   "outputs": [
    {
     "name": "stdout",
     "output_type": "stream",
     "text": [
      "\n",
      "----------------------------------------------------------------------------------------------------\n",
      "\u001b[1mSVC\u001b[0m\n",
      "130 215\n",
      "120 209\n",
      "100 243\n",
      "107 248\n",
      "96 209\n",
      "106 236\n",
      "126 403\n",
      "119 231\n",
      "128 271\n",
      "120 218\n",
      "107 218\n",
      "105 332\n",
      "98 327\n",
      "75 199\n",
      "76 236\n",
      "90 403\n",
      "88 179\n",
      "99 388\n",
      "100 332\n",
      "99 218\n",
      "106 332\n",
      "99 209\n",
      "98 212\n",
      "97 209\n",
      "0 243\n",
      "\n",
      "\n",
      "Evaluate a score by cross-validation:     mean score = 0.0 \n",
      "\n",
      "Runtime of SVC:  0.05922470000000146\n",
      "\n",
      "----------------------------------------------------------------------------------------------------\n",
      "\u001b[1mRandomForestClassifier\u001b[0m\n"
     ]
    },
    {
     "name": "stderr",
     "output_type": "stream",
     "text": [
      "C:\\Users\\phatm\\Anaconda3\\lib\\site-packages\\sklearn\\model_selection\\_split.py:667: UserWarning: The least populated class in y has only 1 members, which is less than n_splits=3.\n",
      "  % (min_groups, self.n_splits)), UserWarning)\n"
     ]
    },
    {
     "name": "stdout",
     "output_type": "stream",
     "text": [
      "130 140\n",
      "120 140\n",
      "100 140\n",
      "107 140\n",
      "96 140\n",
      "106 140\n",
      "126 140\n",
      "119 140\n",
      "128 140\n",
      "120 140\n",
      "107 140\n",
      "105 140\n",
      "98 140\n",
      "75 140\n",
      "76 140\n",
      "90 140\n",
      "88 140\n",
      "99 140\n",
      "100 140\n",
      "99 140\n",
      "106 140\n",
      "99 140\n",
      "98 140\n",
      "97 140\n",
      "0 140\n"
     ]
    },
    {
     "name": "stderr",
     "output_type": "stream",
     "text": [
      "C:\\Users\\phatm\\Anaconda3\\lib\\site-packages\\sklearn\\model_selection\\_split.py:667: UserWarning: The least populated class in y has only 1 members, which is less than n_splits=3.\n",
      "  % (min_groups, self.n_splits)), UserWarning)\n"
     ]
    },
    {
     "name": "stdout",
     "output_type": "stream",
     "text": [
      "\n",
      "\n",
      "Evaluate a score by cross-validation:     mean score = 0.0787037037037037 \n",
      "\n",
      "Runtime of RandomForestClassifier:  0.6264307999999943\n",
      "\n",
      "----------------------------------------------------------------------------------------------------\n",
      "\u001b[1mExtraTreesClassifier\u001b[0m\n",
      "130 140\n",
      "120 192\n",
      "100 192\n",
      "107 192\n",
      "96 192\n",
      "106 192\n",
      "126 192\n",
      "119 192\n",
      "128 192\n",
      "120 192\n",
      "107 192\n",
      "105 192\n",
      "98 192\n",
      "75 192\n",
      "76 192\n",
      "90 192\n",
      "88 192\n",
      "99 192\n",
      "100 192\n",
      "99 192\n",
      "106 192\n",
      "99 192\n",
      "98 192\n",
      "97 192\n",
      "0 140\n"
     ]
    },
    {
     "name": "stderr",
     "output_type": "stream",
     "text": [
      "C:\\Users\\phatm\\Anaconda3\\lib\\site-packages\\sklearn\\model_selection\\_split.py:667: UserWarning: The least populated class in y has only 1 members, which is less than n_splits=3.\n",
      "  % (min_groups, self.n_splits)), UserWarning)\n"
     ]
    },
    {
     "name": "stdout",
     "output_type": "stream",
     "text": [
      "\n",
      "\n",
      "Evaluate a score by cross-validation:     mean score = 0.041666666666666664 \n",
      "\n",
      "Runtime of ExtraTreesClassifier:  0.4119136999999995\n",
      "\n",
      "----------------------------------------------------------------------------------------------------\n",
      "\u001b[1mDecisionTreeClassifier\u001b[0m\n",
      "130 192\n",
      "120 192\n",
      "100 175\n",
      "107 175\n",
      "96 175\n",
      "106 173\n",
      "126 175\n",
      "119 173\n",
      "128 173\n",
      "120 175\n",
      "107 173\n",
      "105 173\n",
      "98 175\n",
      "75 175\n",
      "76 175\n",
      "90 175\n",
      "88 175\n",
      "99 173\n",
      "100 173\n",
      "99 173\n",
      "106 173\n",
      "99 175\n",
      "98 173\n",
      "97 175\n",
      "0 175\n",
      "\n",
      "\n",
      "Evaluate a score by cross-validation:     mean score = 0.16203703703703703 \n",
      "\n",
      "Runtime of DecisionTreeClassifier:  0.018831299999988005\n",
      "\n",
      "----------------------------------------------------------------------------------------------------\n",
      "\u001b[1mAdaBoostClassifier\u001b[0m\n"
     ]
    },
    {
     "name": "stderr",
     "output_type": "stream",
     "text": [
      "C:\\Users\\phatm\\Anaconda3\\lib\\site-packages\\sklearn\\model_selection\\_split.py:667: UserWarning: The least populated class in y has only 1 members, which is less than n_splits=3.\n",
      "  % (min_groups, self.n_splits)), UserWarning)\n"
     ]
    },
    {
     "name": "stdout",
     "output_type": "stream",
     "text": [
      "130 203\n",
      "120 203\n",
      "100 203\n",
      "107 203\n",
      "96 203\n",
      "106 203\n",
      "126 203\n",
      "119 203\n",
      "128 203\n",
      "120 203\n",
      "107 203\n",
      "105 203\n",
      "98 203\n",
      "75 203\n",
      "76 203\n",
      "90 203\n",
      "88 203\n",
      "99 203\n",
      "100 203\n",
      "99 203\n",
      "106 203\n",
      "99 203\n",
      "98 203\n",
      "97 203\n",
      "0 203\n"
     ]
    },
    {
     "name": "stderr",
     "output_type": "stream",
     "text": [
      "C:\\Users\\phatm\\Anaconda3\\lib\\site-packages\\sklearn\\model_selection\\_split.py:667: UserWarning: The least populated class in y has only 1 members, which is less than n_splits=3.\n",
      "  % (min_groups, self.n_splits)), UserWarning)\n"
     ]
    },
    {
     "name": "stdout",
     "output_type": "stream",
     "text": [
      "\n",
      "\n",
      "Evaluate a score by cross-validation:     mean score = 0.0787037037037037 \n",
      "\n",
      "Runtime of AdaBoostClassifier:  0.6110863000000109\n",
      "\n",
      "----------------------------------------------------------------------------------------------------\n",
      "\u001b[1mGaussianNB\u001b[0m\n",
      "130 212\n",
      "120 209\n",
      "100 218\n",
      "107 234\n",
      "96 230\n",
      "106 194\n",
      "126 234\n",
      "119 198\n",
      "128 198\n",
      "120 234\n",
      "107 230\n",
      "105 225\n",
      "98 385\n",
      "75 225\n",
      "76 207\n",
      "90 221\n",
      "88 198\n",
      "99 198\n",
      "100 198\n",
      "99 230\n",
      "106 197\n",
      "99 203\n",
      "98 225\n",
      "97 203\n",
      "0 218\n",
      "\n",
      "\n",
      "Evaluate a score by cross-validation:     mean score = 0.0787037037037037 \n",
      "\n",
      "Runtime of GaussianNB:  0.017742799999993508\n",
      "\n",
      "----------------------------------------------------------------------------------------------------\n",
      "\u001b[1mGradientBoostingClassifier\u001b[0m\n"
     ]
    },
    {
     "name": "stderr",
     "output_type": "stream",
     "text": [
      "C:\\Users\\phatm\\Anaconda3\\lib\\site-packages\\sklearn\\model_selection\\_split.py:667: UserWarning: The least populated class in y has only 1 members, which is less than n_splits=3.\n",
      "  % (min_groups, self.n_splits)), UserWarning)\n"
     ]
    },
    {
     "name": "stdout",
     "output_type": "stream",
     "text": [
      "130 392\n",
      "120 392\n",
      "100 243\n",
      "107 392\n",
      "96 392\n",
      "106 271\n",
      "126 392\n",
      "119 271\n",
      "128 271\n",
      "120 392\n",
      "107 271\n",
      "105 271\n",
      "98 392\n",
      "75 392\n",
      "76 243\n",
      "90 243\n",
      "88 392\n",
      "99 271\n",
      "100 271\n",
      "99 271\n",
      "106 271\n",
      "99 392\n",
      "98 392\n",
      "97 392\n",
      "0 243\n"
     ]
    },
    {
     "name": "stderr",
     "output_type": "stream",
     "text": [
      "C:\\Users\\phatm\\Anaconda3\\lib\\site-packages\\sklearn\\model_selection\\_split.py:667: UserWarning: The least populated class in y has only 1 members, which is less than n_splits=3.\n",
      "  % (min_groups, self.n_splits)), UserWarning)\n"
     ]
    },
    {
     "name": "stdout",
     "output_type": "stream",
     "text": [
      "\n",
      "\n",
      "Evaluate a score by cross-validation:     mean score = 0.0787037037037037 \n",
      "\n",
      "Runtime of GradientBoostingClassifier:  25.8568327\n",
      "\n",
      "----------------------------------------------------------------------------------------------------\n",
      "\u001b[1mVotingClassifier\u001b[0m\n",
      "130 140\n",
      "120 192\n",
      "100 192\n",
      "107 192\n",
      "96 192\n",
      "106 140\n",
      "126 192\n",
      "119 140\n",
      "128 140\n",
      "120 192\n",
      "107 192\n",
      "105 192\n",
      "98 192\n",
      "75 192\n",
      "76 192\n",
      "90 192\n",
      "88 192\n",
      "99 140\n",
      "100 192\n",
      "99 140\n",
      "106 192\n",
      "99 192\n",
      "98 192\n",
      "97 192\n",
      "0 192\n"
     ]
    },
    {
     "name": "stderr",
     "output_type": "stream",
     "text": [
      "C:\\Users\\phatm\\Anaconda3\\lib\\site-packages\\sklearn\\model_selection\\_split.py:667: UserWarning: The least populated class in y has only 1 members, which is less than n_splits=3.\n",
      "  % (min_groups, self.n_splits)), UserWarning)\n"
     ]
    },
    {
     "name": "stdout",
     "output_type": "stream",
     "text": [
      "\n",
      "\n",
      "Evaluate a score by cross-validation:     mean score = 0.041666666666666664 \n",
      "\n",
      "Runtime of VotingClassifier:  1.1001157999999975\n",
      "\n",
      "---------------------------------------------------------------------------------------------------- \n",
      "----------------------------------------------------------------------------------------------------\n",
      "\u001b[1mSummary of classifier name, cross-validation mean score and runtime\n",
      "\n",
      " Classifier                        Score                             Runtime                          \n",
      "\n",
      " ----------------------            ----------------                  ----------                       \n",
      "\n",
      " SVC                               0.0                               0.05922470000000146              \n",
      "\n",
      " RandomForestClassifier            0.0787037037037037                0.6264307999999943               \n",
      "\n",
      " ExtraTreesClassifier              0.041666666666666664              0.4119136999999995               \n",
      "\n",
      " DecisionTreeClassifier            0.16203703703703703               0.018831299999988005             \n",
      "\n",
      " AdaBoostClassifier                0.0787037037037037                0.6110863000000109               \n",
      "\n",
      " GaussianNB                        0.0787037037037037                0.017742799999993508             \n",
      "\n",
      " GradientBoostingClassifier        0.0787037037037037                25.8568327                       \n",
      "\n",
      " VotingClassifier                  0.041666666666666664              1.1001157999999975               \n",
      "\u001b[0m\n"
     ]
    }
   ],
   "source": [
    "x = svm.SVC(kernel='poly', degree = 3,gamma = 0.001)\n",
    "a = RandomForestClassifier(n_estimators = 100, min_samples_split=2)\n",
    "b = ExtraTreesClassifier(n_estimators = 100, min_samples_split=2)\n",
    "c = DecisionTreeClassifier(min_samples_split=2)\n",
    "d = AdaBoostClassifier(n_estimators=100)\n",
    "e = GaussianNB()\n",
    "f = GradientBoostingClassifier(n_estimators=100, learning_rate=1.0, max_depth=1, random_state=0)\n",
    "g = VotingClassifier(estimators=[('svc',x),('rfc',a),('etc',b),('dtc',c),('gnb',e)], voting='hard')\n",
    "\n",
    "cv = 3\n",
    "\n",
    "clf_name = ['SVC','RandomForestClassifier','ExtraTreesClassifier','DecisionTreeClassifier',\n",
    "            'AdaBoostClassifier','GaussianNB','GradientBoostingClassifier','VotingClassifier']\n",
    "clf_list = [x,a,b,c,d,e,f,g]\n",
    "\n",
    "clf_cross_val_mean_score = []\n",
    "run_time = []\n",
    "clf_and_name = list(zip(clf_list,clf_name))\n",
    "for  index,(clf, name) in enumerate(clf_and_name): \n",
    "    start = timeit.default_timer()\n",
    "    print(\"\\n----------------------------------------------------------------------------------------------------\")\n",
    "    print('\\033[1m'+name+'\\033[0m')\n",
    "    \n",
    "    clf.fit(di,dt)\n",
    "    pr = clf.predict(ti)\n",
    "    \n",
    "    c, d = pr, tt\n",
    "    print(re.sub(r' *\\n *', '\\n', np.array_str(np.c_[d, c]).replace('[', '').replace(']', '').strip()))\n",
    "    \n",
    "    cross_val_mean = cross_val_score(clf, ti, tt, cv=cv).mean()\n",
    "    print(\"\\n\\nEvaluate a score by cross-validation:     mean score = %s \\n\" %cross_val_mean)\n",
    "    clf_cross_val_mean_score.append(cross_val_mean)\n",
    "    \n",
    "    stop = timeit.default_timer()\n",
    "    print('Runtime of %s: ' %name, stop - start) \n",
    "    run_time.append(stop - start)\n",
    "    \n",
    "print('\\n----------------------------------------------------------------------------------------------------',\n",
    "      '\\n----------------------------------------------------------------------------------------------------')    \n",
    "print('\\033[1m'+'Summary of classifier name, cross-validation mean score and runtime')\n",
    "clf_and_score = list(zip(clf_name,clf_cross_val_mean_score))\n",
    "clf_and_score_list=[]\n",
    "clf_and_score_list.append(['Classifier','Score','Runtime'])\n",
    "clf_and_score_list.append(['----------------------','----------------','----------'])\n",
    "for  index,(name, score) in enumerate(clf_and_score): \n",
    "    clf_and_score_list.append([name,score,run_time[index]])\n",
    "mx = len(max((sub[0] for sub in clf_and_score_list),key=len))\n",
    "for row in clf_and_score_list:\n",
    "    print(\"\\n\",\" \".join([\"{:<{mx}}       \".format(ele,mx=mx) for ele in row]))\n",
    "print('\\033[0m')   \n",
    "\n"
   ]
  },
  {
   "cell_type": "code",
   "execution_count": null,
   "metadata": {},
   "outputs": [],
   "source": []
  }
 ],
 "metadata": {
  "@webio": {
   "lastCommId": null,
   "lastKernelId": null
  },
  "kernelspec": {
   "display_name": "Python 3",
   "language": "python",
   "name": "python3"
  },
  "language_info": {
   "codemirror_mode": {
    "name": "ipython",
    "version": 3
   },
   "file_extension": ".py",
   "mimetype": "text/x-python",
   "name": "python",
   "nbconvert_exporter": "python",
   "pygments_lexer": "ipython3",
   "version": "3.7.4"
  }
 },
 "nbformat": 4,
 "nbformat_minor": 2
}
